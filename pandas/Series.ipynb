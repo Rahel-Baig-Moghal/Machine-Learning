{
 "cells": [
  {
   "cell_type": "markdown",
   "metadata": {},
   "source": [
    "### **Series**\n",
    "- A series is a data structure in pandas that holds an array of info along with named index.\n",
    "- The named index differentiates this from a simple Numpy Array.\n",
    "- One dimensional ndarray with axis labels."
   ]
  },
  {
   "cell_type": "markdown",
   "metadata": {},
   "source": [
    "**Numpy array has a numeric index**\n",
    "\n",
    "| Index | Data |\n",
    "| ----------- | ----------- |\n",
    "| 0 | 1777 |\n",
    "| 1 | 1881 |\n",
    "| 2 | 1681 |\n",
    "| 3 | 1891 |\n",
    "\n",
    "**Pandas series adds a labeled index**\n",
    "\n",
    "| Numeric Index | Labeled Index | Data |\n",
    "| ----------- | ----------- | ----------- |\n",
    "| 0 | India | 1777 |\n",
    "| 1 | China | 1881 |\n",
    "| 2 | Japan | 1681 |\n",
    "| 3 | Russia | 1891 |\n",
    "\n",
    "  **Data is still organised numerically but can be accessed via labeled index**\n"
   ]
  },
  {
   "cell_type": "code",
   "execution_count": 1,
   "metadata": {},
   "outputs": [],
   "source": [
    "import numpy as np"
   ]
  },
  {
   "cell_type": "code",
   "execution_count": 4,
   "metadata": {},
   "outputs": [],
   "source": [
    "import pandas as pd"
   ]
  },
  {
   "cell_type": "code",
   "execution_count": 8,
   "metadata": {},
   "outputs": [],
   "source": [
    "myIndex = ['usa', 'india', 'japan']"
   ]
  },
  {
   "cell_type": "code",
   "execution_count": 9,
   "metadata": {},
   "outputs": [],
   "source": [
    "mydata = [1776,1867,1821]"
   ]
  },
  {
   "cell_type": "code",
   "execution_count": 12,
   "metadata": {},
   "outputs": [],
   "source": [
    "myseries = pd.Series(data=mydata, index=myIndex)"
   ]
  },
  {
   "cell_type": "code",
   "execution_count": 13,
   "metadata": {},
   "outputs": [
    {
     "data": {
      "text/plain": [
       "usa      1776\n",
       "india    1867\n",
       "japan    1821\n",
       "dtype: int64"
      ]
     },
     "execution_count": 13,
     "metadata": {},
     "output_type": "execute_result"
    }
   ],
   "source": [
    "myseries"
   ]
  },
  {
   "cell_type": "code",
   "execution_count": 14,
   "metadata": {},
   "outputs": [
    {
     "name": "stderr",
     "output_type": "stream",
     "text": [
      "C:\\Users\\rahel\\AppData\\Local\\Temp\\ipykernel_912\\325975676.py:1: FutureWarning: Series.__getitem__ treating keys as positions is deprecated. In a future version, integer keys will always be treated as labels (consistent with DataFrame behavior). To access a value by position, use `ser.iloc[pos]`\n",
      "  myseries[0]\n"
     ]
    },
    {
     "data": {
      "text/plain": [
       "np.int64(1776)"
      ]
     },
     "execution_count": 14,
     "metadata": {},
     "output_type": "execute_result"
    }
   ],
   "source": [
    "myseries[0]"
   ]
  },
  {
   "cell_type": "code",
   "execution_count": 15,
   "metadata": {},
   "outputs": [
    {
     "data": {
      "text/plain": [
       "np.int64(1867)"
      ]
     },
     "execution_count": 15,
     "metadata": {},
     "output_type": "execute_result"
    }
   ],
   "source": [
    "myseries['india']"
   ]
  },
  {
   "cell_type": "code",
   "execution_count": 16,
   "metadata": {},
   "outputs": [],
   "source": [
    "ages = {\n",
    "    \"Alice\": 30,\n",
    "    \"Bob\": 25,\n",
    "    \"Charlie\": 22,\n",
    "    \"David\": 28,\n",
    "    \"Eve\": 35\n",
    "}"
   ]
  },
  {
   "cell_type": "code",
   "execution_count": 17,
   "metadata": {},
   "outputs": [
    {
     "data": {
      "text/plain": [
       "Alice      30\n",
       "Bob        25\n",
       "Charlie    22\n",
       "David      28\n",
       "Eve        35\n",
       "dtype: int64"
      ]
     },
     "execution_count": 17,
     "metadata": {},
     "output_type": "execute_result"
    }
   ],
   "source": [
    "pd.Series(ages)"
   ]
  },
  {
   "cell_type": "code",
   "execution_count": 33,
   "metadata": {},
   "outputs": [],
   "source": [
    "q1 = {\n",
    "    \"Japan\": 100,\n",
    "    \"Germany\": 200,\n",
    "    \"Mexico\": 300,\n",
    "    \"South Korea\": 400,\n",
    "    \"Nigeria\": 500,    \"Russia\": 300,\n",
    "    \"India\": 1000\n",
    "}\n",
    "\n",
    "q2 = {\n",
    "    \"Canada\": 600,\n",
    "    \"Australia\": 700,\n",
    "    \"Brazil\": 800,\n",
    "    \"Russia\": 300,\n",
    "    \"India\": 1000\n",
    "}"
   ]
  },
  {
   "cell_type": "code",
   "execution_count": 34,
   "metadata": {},
   "outputs": [],
   "source": [
    "sales_q1 = pd.Series(q1) \n",
    "sales_q2 = pd.Series(q2)"
   ]
  },
  {
   "cell_type": "code",
   "execution_count": 35,
   "metadata": {},
   "outputs": [
    {
     "data": {
      "text/plain": [
       "Japan           100\n",
       "Germany         200\n",
       "Mexico          300\n",
       "South Korea     400\n",
       "Nigeria         500\n",
       "Russia          300\n",
       "India          1000\n",
       "dtype: int64"
      ]
     },
     "execution_count": 35,
     "metadata": {},
     "output_type": "execute_result"
    }
   ],
   "source": [
    "sales_q1"
   ]
  },
  {
   "cell_type": "code",
   "execution_count": 36,
   "metadata": {},
   "outputs": [
    {
     "data": {
      "text/plain": [
       "Canada        600\n",
       "Australia     700\n",
       "Brazil        800\n",
       "Russia        300\n",
       "India        1000\n",
       "dtype: int64"
      ]
     },
     "execution_count": 36,
     "metadata": {},
     "output_type": "execute_result"
    }
   ],
   "source": [
    "sales_q2"
   ]
  },
  {
   "cell_type": "code",
   "execution_count": 37,
   "metadata": {},
   "outputs": [
    {
     "data": {
      "text/plain": [
       "np.int64(100)"
      ]
     },
     "execution_count": 37,
     "metadata": {},
     "output_type": "execute_result"
    }
   ],
   "source": [
    "sales_q1['Japan']"
   ]
  },
  {
   "cell_type": "code",
   "execution_count": 38,
   "metadata": {},
   "outputs": [
    {
     "name": "stderr",
     "output_type": "stream",
     "text": [
      "C:\\Users\\rahel\\AppData\\Local\\Temp\\ipykernel_912\\92651501.py:1: FutureWarning: Series.__getitem__ treating keys as positions is deprecated. In a future version, integer keys will always be treated as labels (consistent with DataFrame behavior). To access a value by position, use `ser.iloc[pos]`\n",
      "  sales_q1[0]\n"
     ]
    },
    {
     "data": {
      "text/plain": [
       "np.int64(100)"
      ]
     },
     "execution_count": 38,
     "metadata": {},
     "output_type": "execute_result"
    }
   ],
   "source": [
    "sales_q1[0]"
   ]
  },
  {
   "cell_type": "markdown",
   "metadata": {},
   "source": [
    "**In Pandas Series the key (column name) is  case-sensitive. So, if you have a Series with a column named “Japan,” you’ll need to use exactly that capitalization to fetch data from it.**"
   ]
  },
  {
   "cell_type": "code",
   "execution_count": 39,
   "metadata": {},
   "outputs": [
    {
     "data": {
      "text/plain": [
       "Index(['Canada', 'Australia', 'Brazil', 'Russia', 'India'], dtype='object')"
      ]
     },
     "execution_count": 39,
     "metadata": {},
     "output_type": "execute_result"
    }
   ],
   "source": [
    "sales_q2.keys()"
   ]
  },
  {
   "cell_type": "code",
   "execution_count": 40,
   "metadata": {},
   "outputs": [
    {
     "data": {
      "text/plain": [
       "Japan           200\n",
       "Germany         400\n",
       "Mexico          600\n",
       "South Korea     800\n",
       "Nigeria        1000\n",
       "Russia          600\n",
       "India          2000\n",
       "dtype: int64"
      ]
     },
     "execution_count": 40,
     "metadata": {},
     "output_type": "execute_result"
    }
   ],
   "source": [
    "sales_q1 * 2"
   ]
  },
  {
   "cell_type": "code",
   "execution_count": 41,
   "metadata": {},
   "outputs": [
    {
     "data": {
      "text/plain": [
       "Australia         NaN\n",
       "Brazil            NaN\n",
       "Canada            NaN\n",
       "Germany           NaN\n",
       "India          2000.0\n",
       "Japan             NaN\n",
       "Mexico            NaN\n",
       "Nigeria           NaN\n",
       "Russia          600.0\n",
       "South Korea       NaN\n",
       "dtype: float64"
      ]
     },
     "execution_count": 41,
     "metadata": {},
     "output_type": "execute_result"
    }
   ],
   "source": [
    "sales_q1 + sales_q2"
   ]
  },
  {
   "cell_type": "code",
   "execution_count": 45,
   "metadata": {},
   "outputs": [
    {
     "data": {
      "text/plain": [
       "Australia       700.0\n",
       "Brazil          800.0\n",
       "Canada          600.0\n",
       "Germany         200.0\n",
       "India          2000.0\n",
       "Japan           100.0\n",
       "Mexico          300.0\n",
       "Nigeria         500.0\n",
       "Russia          600.0\n",
       "South Korea     400.0\n",
       "dtype: float64"
      ]
     },
     "execution_count": 45,
     "metadata": {},
     "output_type": "execute_result"
    }
   ],
   "source": [
    "first_half = sales_q1.add(sales_q2, fill_value=0)\n",
    "first_half\n"
   ]
  },
  {
   "cell_type": "code",
   "execution_count": 44,
   "metadata": {},
   "outputs": [
    {
     "data": {
      "text/plain": [
       "dtype('int64')"
      ]
     },
     "execution_count": 44,
     "metadata": {},
     "output_type": "execute_result"
    }
   ],
   "source": [
    "sales_q1.dtype"
   ]
  },
  {
   "cell_type": "code",
   "execution_count": 46,
   "metadata": {},
   "outputs": [
    {
     "data": {
      "text/plain": [
       "dtype('float64')"
      ]
     },
     "execution_count": 46,
     "metadata": {},
     "output_type": "execute_result"
    }
   ],
   "source": [
    "first_half.dtype"
   ]
  }
 ],
 "metadata": {
  "kernelspec": {
   "display_name": "Python 3",
   "language": "python",
   "name": "python3"
  },
  "language_info": {
   "codemirror_mode": {
    "name": "ipython",
    "version": 3
   },
   "file_extension": ".py",
   "mimetype": "text/x-python",
   "name": "python",
   "nbconvert_exporter": "python",
   "pygments_lexer": "ipython3",
   "version": "3.12.2"
  }
 },
 "nbformat": 4,
 "nbformat_minor": 2
}
